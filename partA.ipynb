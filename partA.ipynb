{
 "cells": [
  {
   "cell_type": "code",
   "execution_count": 1,
   "metadata": {},
   "outputs": [],
   "source": [
    "import matplotlib.pylab as plt\n",
    "import cv2 as cv\n",
    "import numpy as np"
   ]
  },
  {
   "cell_type": "code",
   "execution_count": 7,
   "metadata": {},
   "outputs": [],
   "source": [
    "def detect_lanes(image):\n",
    "\n",
    "    #function to determine the regions of interest\n",
    "    def region_of_interest(img, vertices):\n",
    "        mask = np.zeros_like(img)\n",
    "        match_mask_color = 255\n",
    "        cv.fillPoly(mask, vertices, match_mask_color)\n",
    "        masked_image = cv.bitwise_and(img, mask)\n",
    "        return masked_image\n",
    "\n",
    "    #function to draw the lines on the road\n",
    "    def add_images(img, lines):\n",
    "        img = np.copy(img)\n",
    "        blank_image = np.zeros((img.shape[0], img.shape[1], 3), dtype=np.uint8)\n",
    "\n",
    "        for line in lines:\n",
    "            for x1, y1, x2, y2 in line:\n",
    "                cv.line(blank_image, (x1,y1), (x2,y2), (0, 255, 0), thickness=8)\n",
    "\n",
    "        img = cv.addWeighted(img, 0.8, blank_image, 1, 0.0)\n",
    "        return img\n",
    "\n",
    "    image = cv.cvtColor(image, cv.COLOR_BGR2RGB)\n",
    "    height = image.shape[0]\n",
    "    width = image.shape[1]\n",
    "\n",
    "    #defining the mask coordinates\n",
    "    roi_vertices = [\n",
    "    (0, height),\n",
    "    (0, 620),\n",
    "    (500, 400),\n",
    "    (width, 640),\n",
    "    (width, height)\n",
    "    ]\n",
    "\n",
    "\n",
    "    gray_image = cv.cvtColor(image, cv.COLOR_RGB2GRAY)\n",
    "    # gray_image = cv.bilateralFilter(gray_image, 9, 10, 10)\n",
    "    gray_image = cv.GaussianBlur(image, (5,5), 0)\n",
    "    canny_image = cv.Canny(gray_image, 100, 220)\n",
    "    \n",
    "    cropped_image = region_of_interest(canny_image,\n",
    "                    np.array([roi_vertices], np.int32),)\n",
    "                    \n",
    "    detected_lines = cv.HoughLinesP(cropped_image,\n",
    "                        rho=1,\n",
    "                        theta=np.pi/180,\n",
    "                        threshold=5,\n",
    "                        lines=np.array([]),\n",
    "                        minLineLength=100,\n",
    "                        maxLineGap=50)\n",
    "    pic = add_images(image, detected_lines)\n",
    "    return pic"
   ]
  },
  {
   "cell_type": "code",
   "execution_count": 2,
   "metadata": {},
   "outputs": [
    {
     "name": "stderr",
     "output_type": "stream",
     "text": [
      "[ WARN:0@2.738] global loadsave.cpp:244 findDecoder imread_('LaneDetection.jpg'): can't open/read file: check file path/integrity\n"
     ]
    },
    {
     "ename": "NameError",
     "evalue": "name 'pic' is not defined",
     "output_type": "error",
     "traceback": [
      "\u001b[0;31m---------------------------------------------------------------------------\u001b[0m",
      "\u001b[0;31mNameError\u001b[0m                                 Traceback (most recent call last)",
      "\u001b[1;32m/home/chinmay/chin/semester6/VR/graded_assignment1/IMT2020069/partA.ipynb Cell 3\u001b[0m in \u001b[0;36m<cell line: 3>\u001b[0;34m()\u001b[0m\n\u001b[1;32m      <a href='vscode-notebook-cell:/home/chinmay/chin/semester6/VR/graded_assignment1/IMT2020069/partA.ipynb#W2sZmlsZQ%3D%3D?line=0'>1</a>\u001b[0m image \u001b[39m=\u001b[39m cv\u001b[39m.\u001b[39mimread(\u001b[39m'\u001b[39m\u001b[39mLaneDetection.jpg\u001b[39m\u001b[39m'\u001b[39m)\n\u001b[1;32m      <a href='vscode-notebook-cell:/home/chinmay/chin/semester6/VR/graded_assignment1/IMT2020069/partA.ipynb#W2sZmlsZQ%3D%3D?line=1'>2</a>\u001b[0m \u001b[39m# pic = detect_lanes(image)\u001b[39;00m\n\u001b[0;32m----> <a href='vscode-notebook-cell:/home/chinmay/chin/semester6/VR/graded_assignment1/IMT2020069/partA.ipynb#W2sZmlsZQ%3D%3D?line=2'>3</a>\u001b[0m plt\u001b[39m.\u001b[39mimshow(pic)\n\u001b[1;32m      <a href='vscode-notebook-cell:/home/chinmay/chin/semester6/VR/graded_assignment1/IMT2020069/partA.ipynb#W2sZmlsZQ%3D%3D?line=3'>4</a>\u001b[0m plt\u001b[39m.\u001b[39mshow()\n",
      "\u001b[0;31mNameError\u001b[0m: name 'pic' is not defined"
     ]
    }
   ],
   "source": [
    "image = cv.imread('LaneDetection.jpg')\n",
    "pic = detect_lanes(image)\n",
    "plt.imshow(pic)\n",
    "plt.show()"
   ]
  },
  {
   "cell_type": "code",
   "execution_count": 9,
   "metadata": {},
   "outputs": [],
   "source": [
    "pic = cv.cvtColor(pic, cv.COLOR_RGB2BGR)\n"
   ]
  },
  {
   "cell_type": "code",
   "execution_count": 10,
   "metadata": {},
   "outputs": [
    {
     "data": {
      "text/plain": [
       "True"
      ]
     },
     "execution_count": 10,
     "metadata": {},
     "output_type": "execute_result"
    }
   ],
   "source": [
    "cv.imwrite(\"LaneDetection.png\", pic)"
   ]
  },
  {
   "cell_type": "code",
   "execution_count": 2,
   "metadata": {},
   "outputs": [
    {
     "name": "stderr",
     "output_type": "stream",
     "text": [
      "qt.qpa.plugin: Could not find the Qt platform plugin \"wayland\" in \"/home/chinmay/.local/lib/python3.10/site-packages/cv2/qt/plugins\"\n"
     ]
    },
    {
     "ename": "",
     "evalue": "",
     "output_type": "error",
     "traceback": [
      "The Kernel crashed while executing code in the the current cell or a previous cell. Please review the code in the cell(s) to identify a possible cause of the failure. Click <a href='https://aka.ms/vscodeJupyterKernelCrash'>here</a> for more info. View Jupyter <a href='command:jupyter.viewOutput'>log</a> for further details."
     ]
    }
   ],
   "source": [
    "img = cv.imread('road.jpg')\n",
    "cv.imshow(\"image\",img)"
   ]
  },
  {
   "cell_type": "code",
   "execution_count": null,
   "metadata": {},
   "outputs": [],
   "source": []
  }
 ],
 "metadata": {
  "kernelspec": {
   "display_name": "Python 3.10.6 64-bit",
   "language": "python",
   "name": "python3"
  },
  "language_info": {
   "codemirror_mode": {
    "name": "ipython",
    "version": 3
   },
   "file_extension": ".py",
   "mimetype": "text/x-python",
   "name": "python",
   "nbconvert_exporter": "python",
   "pygments_lexer": "ipython3",
   "version": "3.10.6"
  },
  "orig_nbformat": 4,
  "vscode": {
   "interpreter": {
    "hash": "e7370f93d1d0cde622a1f8e1c04877d8463912d04d973331ad4851f04de6915a"
   }
  }
 },
 "nbformat": 4,
 "nbformat_minor": 2
}
